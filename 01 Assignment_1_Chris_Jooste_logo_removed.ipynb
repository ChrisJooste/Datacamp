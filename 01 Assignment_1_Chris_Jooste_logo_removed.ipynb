{
 "cells": [
  {
   "cell_type": "markdown",
   "metadata": {
    "id": "McQDva8Az5X1"
   },
   "source": []
  },
  {
   "cell_type": "markdown",
   "metadata": {
    "id": "MlCSBAd6Y1we"
   },
   "source": [
    "# Assignment \\#1: Introduction to Python\n",
    "\n",
    "\n"
   ]
  },
  {
   "cell_type": "markdown",
   "metadata": {
    "id": "1h_DGADFz5X2"
   },
   "source": [
    "This Assignments aims to test introductory Python skills, specifically content covered in the _Introduction to Python_ and _Intermediate Python_ DataCamp courses."
   ]
  },
  {
   "cell_type": "markdown",
   "metadata": {
    "id": "r9LVyrwlPVp2"
   },
   "source": [
    "## Lists and sets\n",
    "\n",
    "### Write dynamic code to solve the following questions:\n",
    "\n",
    "Display the given Python list in reverse order."
   ]
  },
  {
   "cell_type": "code",
   "execution_count": 4,
   "metadata": {
    "id": "CRaG6Jg8PWcc"
   },
   "outputs": [
    {
     "name": "stdout",
     "output_type": "stream",
     "text": [
      "[500, 400, 300, 200, 100]\n"
     ]
    }
   ],
   "source": [
    "a = [100, 200, 300, 400, 500]\n",
    "\n",
    "# Insert code here\n",
    "a.reverse()\n",
    "print(a)"
   ]
  },
  {
   "cell_type": "markdown",
   "metadata": {
    "id": "2zlvVDUXPbzU"
   },
   "source": [
    "Given a list, turn every item of the list into its square."
   ]
  },
  {
   "cell_type": "code",
   "execution_count": 5,
   "metadata": {
    "id": "gR_XMJ6lPcvu"
   },
   "outputs": [
    {
     "data": {
      "text/plain": [
       "[1, 4, 9, 16, 25, 36, 49]"
      ]
     },
     "execution_count": 5,
     "metadata": {},
     "output_type": "execute_result"
    }
   ],
   "source": [
    "a = [1, 2, 3, 4, 5, 6, 7]\n",
    "\n",
    "# Insert code here\n",
    "def square(a):\n",
    "    return [i ** 2 for i in a]\n",
    "\n",
    "square(a)"
   ]
  },
  {
   "cell_type": "markdown",
   "metadata": {
    "id": "ols15FoyPi4k"
   },
   "source": [
    "Remove empty strings from the list of strings."
   ]
  },
  {
   "cell_type": "code",
   "execution_count": 6,
   "metadata": {
    "id": "vbHhVHOgPjPM"
   },
   "outputs": [
    {
     "name": "stdout",
     "output_type": "stream",
     "text": [
      "['Mike', '', 'Emma', 'Kelly', '', 'Brad']\n",
      "['Mike', 'Emma', 'Kelly', '', 'Brad']\n",
      "['Mike', 'Emma', 'Kelly', '', 'Brad']\n",
      "['Mike', 'Emma', 'Kelly', 'Brad']\n"
     ]
    }
   ],
   "source": [
    "a = [\"Mike\", \"\", \"Emma\", \"Kelly\", \"\", \"Brad\"]\n",
    "\n",
    "# Insert code here\n",
    "def remove(a):\n",
    "    for i in a:\n",
    "        if i == \"\":\n",
    "            a.remove(i)\n",
    "        print(a)\n",
    "remove(a)\n"
   ]
  },
  {
   "cell_type": "markdown",
   "metadata": {
    "id": "X-lN5LbEP0T8"
   },
   "source": [
    "Given a Python list, find value 15 in the list, and if it is present, replace it with 150. Only update the first occurrence of a value."
   ]
  },
  {
   "cell_type": "code",
   "execution_count": 7,
   "metadata": {
    "id": "4041JNqvP1v8"
   },
   "outputs": [
    {
     "name": "stdout",
     "output_type": "stream",
     "text": [
      "[5, 10, 150, 20, 15, 50, 20]\n"
     ]
    }
   ],
   "source": [
    "a = [5, 10, 15, 20, 15, 50, 20]\n",
    "\n",
    "# Insert code here\n",
    "a[a.index(15)]=150\n",
    "print(a)"
   ]
  },
  {
   "cell_type": "markdown",
   "metadata": {
    "id": "GpUo7d3CP9RG"
   },
   "source": [
    "Given a Python list, remove all occurrence of 15 from the list."
   ]
  },
  {
   "cell_type": "code",
   "execution_count": 8,
   "metadata": {
    "id": "uR70zQxVP-UD"
   },
   "outputs": [
    {
     "name": "stdout",
     "output_type": "stream",
     "text": [
      "[5, 10, 20, 50, 20]\n"
     ]
    }
   ],
   "source": [
    "a = [5, 10, 15, 20, 15, 50, 20]\n",
    "\n",
    "# Insert code here\n",
    "for i in a:\n",
    "    if i == 15:\n",
    "        a.pop(a.index(i))\n",
    "print(a)"
   ]
  },
  {
   "cell_type": "markdown",
   "metadata": {
    "id": "WXGNlNeSHMVk"
   },
   "source": [
    "Add list of elements in *aList* to a given set, *aSet*."
   ]
  },
  {
   "cell_type": "code",
   "execution_count": 9,
   "metadata": {
    "colab": {
     "base_uri": "https://localhost:8080/"
    },
    "id": "2P7N5SZC3eSu",
    "outputId": "1a7f81aa-4f36-4222-a690-dc3b6b43f54b"
   },
   "outputs": [],
   "source": [
    "aSet = {\"Dog\", \"Bird\", \"Horse\"}\n",
    "aList = [\"Lizard\", \"Cat\", \"Rabbit\"]\n",
    "\n",
    "# Insert code here\n",
    "aSet.update(aList)"
   ]
  },
  {
   "cell_type": "markdown",
   "metadata": {
    "id": "f44b_z0uIM-3"
   },
   "source": [
    "Return a set of identical items from two Python sets."
   ]
  },
  {
   "cell_type": "code",
   "execution_count": 10,
   "metadata": {
    "colab": {
     "base_uri": "https://localhost:8080/"
    },
    "id": "b2R4wK9fINQw",
    "outputId": "bb0146f2-5755-4241-fb40-947944024f39"
   },
   "outputs": [
    {
     "data": {
      "text/plain": [
       "{30, 40, 50}"
      ]
     },
     "execution_count": 10,
     "metadata": {},
     "output_type": "execute_result"
    }
   ],
   "source": [
    "set1 = {10, 20, 30, 40, 50}\n",
    "set2 = {30, 40, 50, 60, 70}\n",
    "\n",
    "# Insert code here\n",
    "set1.intersection(set2)\n"
   ]
  },
  {
   "cell_type": "markdown",
   "metadata": {
    "id": "H3Cb15fYITQZ"
   },
   "source": [
    "Given two Python sets, update first set with items that exist only in the first set and not in the second set."
   ]
  },
  {
   "cell_type": "code",
   "execution_count": 11,
   "metadata": {
    "colab": {
     "base_uri": "https://localhost:8080/"
    },
    "id": "9r_hLwbAITgR",
    "outputId": "8cbc4320-672f-4334-d0e3-0150e200847b"
   },
   "outputs": [],
   "source": [
    "set1 = {10, 20, 30, 40, 50}\n",
    "set2 = {30, 40, 50, 60, 70}\n",
    "\n",
    "# Insert code here\n",
    "set1=set1.difference(set2)\n"
   ]
  },
  {
   "cell_type": "markdown",
   "metadata": {
    "id": "uURAdZP4Ia0x"
   },
   "source": [
    "Remove items from *set1* that are not common to both *set1* and *set2*."
   ]
  },
  {
   "cell_type": "code",
   "execution_count": 12,
   "metadata": {
    "id": "9QLSVCrAIbCJ"
   },
   "outputs": [],
   "source": [
    "set1 = {10, 20, 30, 40, 50}\n",
    "set2 = {30, 40, 50, 60, 70}\n",
    "\n",
    "# Insert code here\n",
    "set1=set1.intersection(set2)"
   ]
  },
  {
   "cell_type": "markdown",
   "metadata": {
    "id": "km-diWT0M7ZA"
   },
   "source": [
    "Return a set of all elements in either *set1* or *set2*, but not both."
   ]
  },
  {
   "cell_type": "code",
   "execution_count": 13,
   "metadata": {
    "id": "-cGxs2E8M-PW"
   },
   "outputs": [],
   "source": [
    "set1 = {10, 20, 30, 40, 50}\n",
    "set2 = {30, 40, 50, 60, 70}\n",
    "\n",
    "# Insert code here\n",
    "set3 = set1.difference(set2).union(set2.difference(set1))"
   ]
  },
  {
   "cell_type": "markdown",
   "metadata": {
    "id": "x9TackspMrtn"
   },
   "source": [
    "## Dictionaries\n",
    "Create a dictionary with the following key-value pairs: apple = 10, orange = 12, banana = 16, grape = 4."
   ]
  },
  {
   "cell_type": "code",
   "execution_count": null,
   "metadata": {
    "id": "HbYew-FTyx8D"
   },
   "outputs": [],
   "source": [
    "# Insert code here\n",
    "dict = {'apple':10,'orange':12,'banana':16,'grape':4}"
   ]
  },
  {
   "cell_type": "markdown",
   "metadata": {
    "id": "1rpwd4GDM1qv"
   },
   "source": [
    "Use the dictionary to retrieve the number of apples."
   ]
  },
  {
   "cell_type": "code",
   "execution_count": null,
   "metadata": {
    "id": "TkdbuYxfzLrX"
   },
   "outputs": [],
   "source": [
    "# Insert code here\n",
    "dict['apple']"
   ]
  },
  {
   "cell_type": "markdown",
   "metadata": {
    "id": "LhN7O3WGWzK_"
   },
   "source": [
    "Use the dictionary to display the total fruit."
   ]
  },
  {
   "cell_type": "code",
   "execution_count": null,
   "metadata": {
    "id": "8uBbkrjTzgln"
   },
   "outputs": [],
   "source": [
    "# Insert code here\n",
    "\n",
    "print(sum(dict.values())"
   ]
  },
  {
   "cell_type": "markdown",
   "metadata": {
    "id": "Dn5UgXE0NBmq"
   },
   "source": [
    "Add the following record to the dictionary: 23 pears"
   ]
  },
  {
   "cell_type": "code",
   "execution_count": null,
   "metadata": {
    "id": "Ja8G1ZlUz6zm"
   },
   "outputs": [],
   "source": [
    "# Insert code here\n",
    "dict['pear':23]"
   ]
  },
  {
   "cell_type": "markdown",
   "metadata": {
    "id": "qF5lhucGNP7X"
   },
   "source": [
    "Retrieve and display the most occuring fruit from dictionary.\n"
   ]
  },
  {
   "cell_type": "code",
   "execution_count": null,
   "metadata": {
    "id": "UaCy0VqP0T3v"
   },
   "outputs": [],
   "source": [
    "# Insert code here\n",
    "from collections import Counter\n",
    "total = Counter(dict)\n",
    "print(total.most_common(1))"
   ]
  },
  {
   "cell_type": "markdown",
   "metadata": {
    "id": "tt-v3FGeNtM_"
   },
   "source": [
    "Display fruit  in alphabetiacal order:\n",
    "\n"
   ]
  },
  {
   "cell_type": "code",
   "execution_count": null,
   "metadata": {
    "id": "xdE3Xzoy0n8e"
   },
   "outputs": [],
   "source": [
    "# Insert code here\n",
    "sorted(dict)"
   ]
  },
  {
   "cell_type": "markdown",
   "metadata": {
    "id": "Ys-vxE7g49oP"
   },
   "source": [
    "## Python Functions\n",
    "Create a function named \"sign()\" that returns \"positive\", \"negative\" or \"zero\" given an integer as input."
   ]
  },
  {
   "cell_type": "code",
   "execution_count": 1,
   "metadata": {
    "colab": {
     "base_uri": "https://localhost:8080/"
    },
    "id": "i5DT_VOj40eE",
    "outputId": "2c0ca0a6-df9d-49d4-923d-a55a3f3afcf1"
   },
   "outputs": [
    {
     "name": "stdout",
     "output_type": "stream",
     "text": [
      "negative\n",
      "zero\n",
      "positive\n"
     ]
    }
   ],
   "source": [
    "#Insert function:\n",
    "def sign(x):\n",
    "    if x < 0:\n",
    "        return(\"negative\")\n",
    "    elif x>0:\n",
    "        return(\"positive\")\n",
    "    else:\n",
    "        return(\"zero\")\n",
    "\n",
    "# Test\n",
    "for x in [-1, 0, 1]:\n",
    "  print(sign(x))"
   ]
  },
  {
   "cell_type": "markdown",
   "metadata": {
    "id": "ZxKO10bl5XXl"
   },
   "source": [
    "Write a function named \"my_min()\" that returns the minimum value given arbitrary \n",
    "number of integers as input parameters."
   ]
  },
  {
   "cell_type": "code",
   "execution_count": null,
   "metadata": {
    "colab": {
     "base_uri": "https://localhost:8080/"
    },
    "id": "8Y0Jza4x6lem",
    "outputId": "2f911323-55e9-4c29-d266-9901956118ee"
   },
   "outputs": [
    {
     "ename": "NameError",
     "evalue": "name 'my_min' is not defined",
     "output_type": "error",
     "traceback": [
      "\u001b[0;31m---------------------------------------------------------------------------\u001b[0m",
      "\u001b[0;31mNameError\u001b[0m                                 Traceback (most recent call last)",
      "\u001b[0;32m<ipython-input-12-f6ae81117534>\u001b[0m in \u001b[0;36m<module>\u001b[0;34m\u001b[0m\n\u001b[1;32m      2\u001b[0m \u001b[0;34m\u001b[0m\u001b[0m\n\u001b[1;32m      3\u001b[0m \u001b[0;31m# Test\u001b[0m\u001b[0;34m\u001b[0m\u001b[0;34m\u001b[0m\u001b[0;34m\u001b[0m\u001b[0m\n\u001b[0;32m----> 4\u001b[0;31m \u001b[0mprint\u001b[0m\u001b[0;34m(\u001b[0m\u001b[0mmy_min\u001b[0m\u001b[0;34m(\u001b[0m\u001b[0;36m4\u001b[0m\u001b[0;34m,\u001b[0m \u001b[0;36m5\u001b[0m\u001b[0;34m,\u001b[0m \u001b[0;36m6\u001b[0m\u001b[0;34m,\u001b[0m \u001b[0;36m7\u001b[0m\u001b[0;34m,\u001b[0m \u001b[0;36m2\u001b[0m\u001b[0;34m)\u001b[0m\u001b[0;34m)\u001b[0m\u001b[0;34m\u001b[0m\u001b[0;34m\u001b[0m\u001b[0m\n\u001b[0m\u001b[1;32m      5\u001b[0m \u001b[0mprint\u001b[0m\u001b[0;34m(\u001b[0m\u001b[0mmy_min\u001b[0m\u001b[0;34m(\u001b[0m\u001b[0;34m-\u001b[0m\u001b[0;36m10\u001b[0m\u001b[0;34m,\u001b[0m \u001b[0;36m5\u001b[0m\u001b[0;34m,\u001b[0m \u001b[0;36m3\u001b[0m\u001b[0;34m,\u001b[0m \u001b[0;34m-\u001b[0m\u001b[0;36m4\u001b[0m\u001b[0;34m,\u001b[0m \u001b[0;36m1\u001b[0m\u001b[0;34m,\u001b[0m \u001b[0;36m10\u001b[0m\u001b[0;34m,\u001b[0m \u001b[0;36m3\u001b[0m\u001b[0;34m,\u001b[0m \u001b[0;36m6\u001b[0m\u001b[0;34m)\u001b[0m\u001b[0;34m)\u001b[0m\u001b[0;34m\u001b[0m\u001b[0;34m\u001b[0m\u001b[0m\n",
      "\u001b[0;31mNameError\u001b[0m: name 'my_min' is not defined"
     ]
    }
   ],
   "source": [
    "# Insert function \n",
    "def my_min(*args):\n",
    "    return min(*args)\n",
    "\n",
    "# Test\n",
    "print(my_min(4, 5, 6, 7, 2))\n",
    "print(my_min(-10, 5, 3, -4, 1, 10, 3, 6))"
   ]
  },
  {
   "cell_type": "markdown",
   "metadata": {
    "id": "wcwze3o17jks"
   },
   "source": [
    "Write a recursive function to display the Fibonacci sequence using recursion. \n",
    "\n",
    "The first two terms are 0 and 1. All other terms are obtained by adding the preceding two terms i.e. the n-th term is the sum of (n-1)-th and (n-2)-th term."
   ]
  },
  {
   "cell_type": "code",
   "execution_count": 2,
   "metadata": {
    "colab": {
     "base_uri": "https://localhost:8080/"
    },
    "id": "BYoR2_a77l06",
    "outputId": "00483075-8ea1-46c3-a7d4-f0446345a88d"
   },
   "outputs": [
    {
     "name": "stdout",
     "output_type": "stream",
     "text": [
      "0\n",
      "1\n",
      "1\n",
      "2\n",
      "3\n",
      "5\n",
      "8\n",
      "13\n",
      "21\n",
      "34\n"
     ]
    }
   ],
   "source": [
    "def recur_fibo(n):\n",
    "  # Insert code here\n",
    "    if n <= 1:\n",
    "        return n\n",
    "    else:\n",
    "        return(recur_fibo(n-1)+recur_fibo(n-2))\n",
    "\n",
    "# Test\n",
    "for i in range(10):\n",
    "  print(recur_fibo(i))"
   ]
  },
  {
   "cell_type": "markdown",
   "metadata": {
    "id": "XrqpPP9N5yUS"
   },
   "source": [
    "## Python Classes\n",
    "Create a constructor for class \"Circle\" that takes x and y coordinates (center of cirlce) and radius as arguments to initialize an instance of the class."
   ]
  },
  {
   "cell_type": "code",
   "execution_count": 27,
   "metadata": {
    "id": "lum4UBEyEU-i",
    "outputId": "b59abb52-3e64-4621-fc4b-fba7a00c0354"
   },
   "outputs": [
    {
     "ename": "IndentationError",
     "evalue": "unindent does not match any outer indentation level (<tokenize>, line 12)",
     "output_type": "error",
     "traceback": [
      "\u001b[1;36m  File \u001b[1;32m<tokenize>:12\u001b[1;36m\u001b[0m\n\u001b[1;33m    def str_circle(self):\u001b[0m\n\u001b[1;37m    ^\u001b[0m\n\u001b[1;31mIndentationError\u001b[0m\u001b[1;31m:\u001b[0m unindent does not match any outer indentation level\n"
     ]
    }
   ],
   "source": [
    "import math\n",
    "\n",
    "# Insert class here:\n",
    "class Circle:\n",
    "  # Insert constructor code\n",
    "    def __init__(self,x,y,r):\n",
    "        x = self.x_coord\n",
    "        y = self.y_coord\n",
    "        r = self.radius\n",
    "        \n",
    "\n",
    "  def str_circle(self):\n",
    "    # Insert code\n",
    "\n",
    "  def dist(self, other):\n",
    "    dist = circle1.dist(circle2)\n",
    "    print(dist)\n",
    "\n",
    "  def overlap(self, other):\n",
    "    # Insert code\n",
    "    circle1.overlap(circle2)\n",
    "  def area(self):\n",
    "    # Insert code\n",
    "    circle1.area()\n",
    "  def overlap_area(self, other):\n",
    "    # Insert code\n",
    "    circle1.overlap_area(circle2)"
   ]
  },
  {
   "cell_type": "markdown",
   "metadata": {
    "id": "umc2vdAnz5X9"
   },
   "source": [
    "Create the following two circles:\n",
    "*   circle 1: x = 2, y = 1, rad = 1\n",
    "\n",
    "*   circle 2: x = -1, y = -2, rad 3 \n"
   ]
  },
  {
   "cell_type": "code",
   "execution_count": null,
   "metadata": {
    "id": "bGKjkZJ0z5X9"
   },
   "outputs": [],
   "source": [
    "# Insert code\n",
    "c1 = (Circle,2,1,1)\n",
    "c2 = (Circle,-1,-2,3)"
   ]
  },
  {
   "cell_type": "markdown",
   "metadata": {
    "id": "fLKTGal26Zz1"
   },
   "source": [
    "Complete the function \"str_circle()\" to print the properties of both circles as follow:\n",
    "\n",
    "\"Circle at location x = 2 and y = 3 with radius = 1\"\n",
    "\n"
   ]
  },
  {
   "cell_type": "code",
   "execution_count": null,
   "metadata": {
    "id": "vJx-y-jbHics"
   },
   "outputs": [],
   "source": [
    "# Insert code\n",
    "def str_circle():\n",
    "    "
   ]
  },
  {
   "cell_type": "markdown",
   "metadata": {
    "id": "bZwCc0811uHZ"
   },
   "source": [
    "Complete the function \"dist()\" to return the euclidean distance between two circles' centers. Print the distance between circle 1 and 2."
   ]
  },
  {
   "cell_type": "code",
   "execution_count": null,
   "metadata": {
    "id": "bRTtEwtrHqTa"
   },
   "outputs": [],
   "source": [
    "# Test\n",
    "dist = circle1.dist(circle2)\n",
    "print(dist)"
   ]
  },
  {
   "cell_type": "markdown",
   "metadata": {
    "id": "8OxhLIwg2fiQ"
   },
   "source": [
    "Complete the function \"overlap()\". The function should return True if the circles overlap and False otherwise."
   ]
  },
  {
   "cell_type": "code",
   "execution_count": null,
   "metadata": {
    "id": "5S7D2YLpnYop"
   },
   "outputs": [],
   "source": [
    "# Test\n",
    "circle1.overlap(circle2)"
   ]
  },
  {
   "cell_type": "markdown",
   "metadata": {
    "id": "KjAxXuEg27nG"
   },
   "source": [
    "Complete fuction \"area()\". The function should return the area of the circle."
   ]
  },
  {
   "cell_type": "code",
   "execution_count": null,
   "metadata": {
    "id": "KFJz4Pxmol7_"
   },
   "outputs": [],
   "source": [
    "# Test\n",
    "circle1.area()"
   ]
  },
  {
   "cell_type": "markdown",
   "metadata": {
    "id": "01FUpDEn3H_3"
   },
   "source": [
    "Complete function \"overlap_area\". The function should return the overlapping area between two circles. \n",
    "\n",
    "If the circles do not overlap, return the message: \"Circles do not overlap\"\n",
    "\n",
    "The formula for calculating the overlapping area between two circles is provided below:"
   ]
  },
  {
   "cell_type": "markdown",
   "metadata": {
    "id": "7rMKO_ckjdHT"
   },
   "source": [
    "\\begin{equation}\n",
    "\\small\n",
    "A = \n",
    "r^2\\text{cos}^{-1}(\\frac{d^2+r^2-R^2}{2dr}) + R^2\\text{cos}^{-1}(\\frac{d^2+R^2-r^2}{2dR}) -\n",
    "\\frac{1}{2}\\sqrt{(-d+r+R)(d+r-R)(d-r+R)(d+r+R)}\n",
    "\\end{equation}\n"
   ]
  },
  {
   "cell_type": "markdown",
   "metadata": {
    "id": "MNJtmVbSlEgh"
   },
   "source": [
    "$\\;\\;\\;\\;\\;\\;\\;\\;$A = area of overlapping <br>\n",
    "$\\;\\;\\;\\;\\;\\;\\;\\;$r = radius of circle 1 <br>\n",
    "$\\;\\;\\;\\;\\;\\;\\;\\;$R = radius of circle 2 <br>\n",
    "$\\;\\;\\;\\;\\;\\;\\;\\;$d = distance between the circles <br>"
   ]
  },
  {
   "cell_type": "code",
   "execution_count": null,
   "metadata": {
    "id": "ihNOnkoppWzX"
   },
   "outputs": [],
   "source": [
    "# Test\n",
    "circle1.overlap_area(circle2)"
   ]
  },
  {
   "cell_type": "markdown",
   "metadata": {
    "id": "4WUsBU4409ax"
   },
   "source": [
    "##  Introduction to Numpy"
   ]
  },
  {
   "cell_type": "code",
   "execution_count": null,
   "metadata": {
    "id": "Kt2KwTGpbuG9"
   },
   "outputs": [],
   "source": [
    "# Import numpy library\n",
    "import numpy as np"
   ]
  },
  {
   "cell_type": "markdown",
   "metadata": {
    "id": "Fy7GkCFSrqz5"
   },
   "source": [
    "Given the matrix, write code to compute the average over all the entries in the matrix."
   ]
  },
  {
   "cell_type": "code",
   "execution_count": null,
   "metadata": {
    "id": "zwICAdFU0__E"
   },
   "outputs": [],
   "source": [
    "A = [[ 1.27411064,  0.05188032, -1.27088046],\n",
    "       [-0.78844599, -0.14775522, -0.28198009]]\n",
    "\n",
    "a = np.array(A)\n",
    "\n",
    "# Insert code\n",
    "a.mean()"
   ]
  },
  {
   "cell_type": "markdown",
   "metadata": {
    "id": "60HH5Utjr166"
   },
   "source": [
    "Given two vectors of data, print the Euclidean distance between them."
   ]
  },
  {
   "cell_type": "code",
   "execution_count": null,
   "metadata": {
    "id": "knVnhb60br5w"
   },
   "outputs": [],
   "source": [
    "\n",
    "VEC1 = [-0.25560104,  0.06393334, -0.43760861,  0.35258494, -0.06174621]\n",
    "VEC2 = [0.16257878, -0.88344182,  1.14405499,  0.33765161,  1.206262]\n",
    "\n",
    "vec1 = np.array(VEC1)\n",
    "vec2 = np.array(VEC2)\n",
    "\n",
    "# Insert code\n",
    "dist=np.sum(np.square(vec1-vec2))\n",
    "print(np.sqrt(dist))"
   ]
  },
  {
   "cell_type": "markdown",
   "metadata": {
    "id": "8M93EuXJsi6Y"
   },
   "source": [
    "Given two matrices of appropriate dimensions, print their matrix product.\n"
   ]
  },
  {
   "cell_type": "code",
   "execution_count": null,
   "metadata": {
    "id": "xUEM0ltYccZG"
   },
   "outputs": [],
   "source": [
    "A = [[0.6583596987271446, 1.0128241391924433],\n",
    "        [0.37783705753739877, 0.42421340135829255]]\n",
    "\n",
    "B = [[0.6583596987271446, 1.0128241391924433],\n",
    "        [0.37883705753739877, 0.42421340135829255]]\n",
    "\n",
    "a = np.array(A)\n",
    "b = np.array(B)\n",
    "\n",
    "# Insert code\n",
    "print(a*b)"
   ]
  },
  {
   "cell_type": "markdown",
   "metadata": {
    "id": "apaugYO9xhO-"
   },
   "source": [
    "Given `start` and `end` integer values, create a 1-d array consisting of all integer values between `start` and `end` (inclusive)."
   ]
  },
  {
   "cell_type": "code",
   "execution_count": null,
   "metadata": {
    "id": "ImcwXBo0dFqd"
   },
   "outputs": [],
   "source": [
    "start = 3\n",
    "end = 10\n",
    "\n",
    "# Insert code\n",
    "list = range(3,11)\n",
    "for num in list:\n",
    "    if num % 2==0:\n",
    "        print(num)"
   ]
  },
  {
   "cell_type": "markdown",
   "metadata": {
    "id": "BDGZWvRCx3Jv"
   },
   "source": [
    "Given a vector of integer data, print all the entries that are even.\n"
   ]
  },
  {
   "cell_type": "code",
   "execution_count": null,
   "metadata": {
    "id": "XSwH5QrddOHT"
   },
   "outputs": [],
   "source": [
    "VEC = [-3, 5, 1, 2, 18, 2, 234, 11]\n",
    "\n",
    "vec = np.array(VEC)\n",
    "\n",
    "# Insert code\n",
    "even = filter(lambda a:(a%2==0),vec)\n",
    "even_list = list(even)\n",
    "print(even_list)"
   ]
  },
  {
   "cell_type": "markdown",
   "metadata": {
    "id": "F2jCF5WWyNPv"
   },
   "source": [
    "Given two matrices, print whether they are equal (i.e. all their corresponding entries are the same).\n"
   ]
  },
  {
   "cell_type": "code",
   "execution_count": null,
   "metadata": {
    "id": "zFVR5eTvdo3U"
   },
   "outputs": [],
   "source": [
    "A = [[0.6583596987271446, 1.0128241391924433],\n",
    "        [0.37783705753739877, 0.42421340135829255],\n",
    "        [-0.6905233695318467, -0.498554227530507]]\n",
    "B = [[0.6583596987271446, 1.0128241391924433],\n",
    "        [0.37883705753739877, 0.42421340135829255],\n",
    "        [-0.6905233695318467, -0.498554227530507]]\n",
    " \n",
    "a = np.array(A)\n",
    "b = np.array(B)\n",
    "\n",
    "#Insert code\n",
    "if a.all()==b.all():\n",
    "    print(True)\n",
    "else:\n",
    "    print(False)"
   ]
  },
  {
   "cell_type": "markdown",
   "metadata": {
    "id": "vxHjg_j50AFm"
   },
   "source": [
    "Given two vectors of data, print the cosine distance between them.\n"
   ]
  },
  {
   "cell_type": "code",
   "execution_count": null,
   "metadata": {
    "id": "jVd8F6lMfTqx"
   },
   "outputs": [],
   "source": [
    "VEC1 = [-0.25560104,  0.06393334, -0.43760861,  0.35258494, -0.06174621]\n",
    "VEC2 = [ 0.16257878, -0.88344182,  1.14405499,  0.33765161,  1.206262]\n",
    "\n",
    "vec1 = np.array(VEC1)\n",
    "vec2 = np.array(VEC2)\n",
    "\n",
    "# Insert code \n",
    "from numpy.linalg import norm\n",
    "cosine = np.dot(vec1,vec2)/(norm(vec1)*norm(vec2))\n",
    "print(1-cosine)"
   ]
  },
  {
   "cell_type": "markdown",
   "metadata": {
    "id": "zXcoAvLj0QpP"
   },
   "source": [
    "Given a vector of data, scale (multiply) all the entries in the vector by the vector mean and print the result."
   ]
  },
  {
   "cell_type": "code",
   "execution_count": null,
   "metadata": {
    "id": "rKjizbtqfftu"
   },
   "outputs": [],
   "source": [
    "VEC = [-0.25560104,  0.06393334, -0.43760861,  0.35258494, -0.06174621]\n",
    "\n",
    "vec = np.array(VEC)\n",
    "\n",
    "# Insert code\n",
    "vec*vec.mean()"
   ]
  },
  {
   "cell_type": "markdown",
   "metadata": {
    "id": "Fp6ExmBF1BVH"
   },
   "source": [
    "Given a matrix, subtract the column mean from each entry. This has the effect of zero-centering the data and is often done in algorithms such as principal components analysis or when running computer vision models."
   ]
  },
  {
   "cell_type": "code",
   "execution_count": 3,
   "metadata": {
    "id": "vZZh3w8xj7wj"
   },
   "outputs": [
    {
     "ename": "NameError",
     "evalue": "name 'np' is not defined",
     "output_type": "error",
     "traceback": [
      "\u001b[1;31m---------------------------------------------------------------------------\u001b[0m",
      "\u001b[1;31mNameError\u001b[0m                                 Traceback (most recent call last)",
      "Input \u001b[1;32mIn [3]\u001b[0m, in \u001b[0;36m<cell line: 5>\u001b[1;34m()\u001b[0m\n\u001b[0;32m      1\u001b[0m A \u001b[38;5;241m=\u001b[39m [[\u001b[38;5;241m0.6583596987271446\u001b[39m, \u001b[38;5;241m1.0128241391924433\u001b[39m],\n\u001b[0;32m      2\u001b[0m        [\u001b[38;5;241m0.37783705753739877\u001b[39m, \u001b[38;5;241m0.42421340135829255\u001b[39m],\n\u001b[0;32m      3\u001b[0m        [\u001b[38;5;241m-\u001b[39m\u001b[38;5;241m0.6905233695318467\u001b[39m, \u001b[38;5;241m-\u001b[39m\u001b[38;5;241m0.498554227530507\u001b[39m]]\n\u001b[1;32m----> 5\u001b[0m a \u001b[38;5;241m=\u001b[39m \u001b[43mnp\u001b[49m\u001b[38;5;241m.\u001b[39marray(A)\n\u001b[0;32m      7\u001b[0m \u001b[38;5;66;03m# Insert cdoe\u001b[39;00m\n\u001b[0;32m      8\u001b[0m x \u001b[38;5;241m=\u001b[39m a[:,\u001b[38;5;241m0\u001b[39m]\u001b[38;5;241m-\u001b[39ma[:,\u001b[38;5;241m0\u001b[39m]\u001b[38;5;241m.\u001b[39mmean()\n",
      "\u001b[1;31mNameError\u001b[0m: name 'np' is not defined"
     ]
    }
   ],
   "source": [
    "A = [[0.6583596987271446, 1.0128241391924433],\n",
    "       [0.37783705753739877, 0.42421340135829255],\n",
    "       [-0.6905233695318467, -0.498554227530507]]\n",
    "\n",
    "a = np.array(A)\n",
    "\n",
    "# Insert cdoe\n",
    "x = a[:,0]-a[:,0].mean()\n",
    "y = a[:,1]-a[:,1].mean()"
   ]
  },
  {
   "cell_type": "markdown",
   "metadata": {
    "id": "qR_wg7aL1Z52"
   },
   "source": [
    "Given a vector of data, compute the softmax scores of the vector.\n",
    "\n"
   ]
  },
  {
   "cell_type": "code",
   "execution_count": null,
   "metadata": {
    "id": "rtknwL9EkRZn"
   },
   "outputs": [],
   "source": [
    "VEC = [-0.25560104,  0.06393334, -0.43760861,  0.35258494, -0.06174621]\n",
    "\n",
    "vec = np.array(VEC)\n",
    "\n",
    "# Insert code\n",
    "def softmax(x):\n",
    "    e_x = np.exp(x-np.max(x))\n",
    "    return e_x/e_x.sum()"
   ]
  },
  {
   "cell_type": "markdown",
   "metadata": {
    "id": "niedX0OU1uu_"
   },
   "source": [
    "Given a matrix, print whether or not there are any NaN values in the matrix. "
   ]
  },
  {
   "cell_type": "code",
   "execution_count": null,
   "metadata": {
    "id": "__8Sok_Okz3i"
   },
   "outputs": [],
   "source": [
    "A = [[0.6583596987271446, 1.0128241391924433],\n",
    "        [0.37783705753739877, float(\"nan\")],\n",
    "        [-0.6905233695318467, -0.498554227530507]]\n",
    "\n",
    "a = np.array(A)\n",
    "\n",
    "print(np.isnan(a))\n"
   ]
  },
  {
   "cell_type": "markdown",
   "metadata": {
    "id": "H-eWgony191X"
   },
   "source": [
    "Given a vector of data, normalize the vector to have 0 mean and variance of 1. (Z-score normalization)]"
   ]
  },
  {
   "cell_type": "code",
   "execution_count": null,
   "metadata": {
    "id": "k2o7u1BNlOni"
   },
   "outputs": [],
   "source": [
    "VEC = [-0.25560104,  0.06393334, -0.43760861,  0.35258494, -0.06174621]\n",
    "\n",
    "vec = np.array(VEC)\n",
    "\n",
    "# Insert code\n",
    "import pandas as pd\n",
    "import scipy.stats as stats\n",
    "\n",
    "print(stats.zscore(vec))"
   ]
  }
 ],
 "metadata": {
  "colab": {
   "collapsed_sections": [],
   "provenance": []
  },
  "kernelspec": {
   "display_name": "Python 3 (ipykernel)",
   "language": "python",
   "name": "python3"
  },
  "language_info": {
   "codemirror_mode": {
    "name": "ipython",
    "version": 3
   },
   "file_extension": ".py",
   "mimetype": "text/x-python",
   "name": "python",
   "nbconvert_exporter": "python",
   "pygments_lexer": "ipython3",
   "version": "3.9.12"
  }
 },
 "nbformat": 4,
 "nbformat_minor": 1
}
